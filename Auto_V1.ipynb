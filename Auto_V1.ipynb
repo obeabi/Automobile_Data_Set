{
  "nbformat": 4,
  "nbformat_minor": 0,
  "metadata": {
    "colab": {
      "name": "Auto_V1.ipynb",
      "provenance": [],
      "authorship_tag": "ABX9TyOFT0KGYZaOj6Z1QjyV2gIj",
      "include_colab_link": true
    },
    "kernelspec": {
      "name": "python3",
      "display_name": "Python 3"
    }
  },
  "cells": [
    {
      "cell_type": "markdown",
      "metadata": {
        "id": "view-in-github",
        "colab_type": "text"
      },
      "source": [
        "<a href=\"https://colab.research.google.com/github/obeabi/Automobile_Data_Set/blob/main/Auto_V1.ipynb\" target=\"_parent\"><img src=\"https://colab.research.google.com/assets/colab-badge.svg\" alt=\"Open In Colab\"/></a>"
      ]
    },
    {
      "cell_type": "markdown",
      "metadata": {
        "id": "hFrZH75ECIlK"
      },
      "source": [
        "# Written by Abiola Obembe\n",
        "## Date: 2020-11-21\n",
        "### Project Name : Automobile Dataest"
      ]
    },
    {
      "cell_type": "markdown",
      "metadata": {
        "id": "UPMCxypLCXXq"
      },
      "source": [
        "## Data Uploading and Cleaning: Data Preprocessing"
      ]
    },
    {
      "cell_type": "code",
      "metadata": {
        "colab": {
          "base_uri": "https://localhost:8080/"
        },
        "id": "Hnu5acVZCdes",
        "outputId": "9fda86a1-ed0f-4d96-a7c8-b588f178908f"
      },
      "source": [
        "# import libraries\n",
        "import numpy as np\n",
        "import scipy\n",
        "import pandas as pd\n",
        "import matplotlib.pyplot as plt\n",
        "import seaborn as sns\n",
        "\n",
        "%matplotlib inline\n",
        "\n",
        "plt.rcParams['figure.figsize'] = (5.0, 4.0) # set default size of plots\n",
        "plt.rcParams['image.interpolation'] = 'nearest'\n",
        "plt.rcParams['image.cmap'] = 'gray'\n",
        "\n",
        "print(\"Installtion completed successfully!\")"
      ],
      "execution_count": 3,
      "outputs": [
        {
          "output_type": "stream",
          "text": [
            "Installtion completed successfully!\n"
          ],
          "name": "stdout"
        }
      ]
    }
  ]
}